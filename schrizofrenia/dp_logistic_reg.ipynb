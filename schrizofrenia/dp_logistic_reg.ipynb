{
 "cells": [
  {
   "cell_type": "code",
   "execution_count": 1,
   "id": "accessible-emergency",
   "metadata": {
    "scrolled": true
   },
   "outputs": [
    {
     "name": "stdout",
     "output_type": "stream",
     "text": [
      "Collecting diffprivlib\n",
      "  Downloading diffprivlib-0.4.1.tar.gz (76 kB)\n",
      "\u001b[K     |████████████████████████████████| 76 kB 2.1 MB/s eta 0:00:01\n",
      "\u001b[?25hRequirement already satisfied: numpy>=1.17.0 in /Users/zarreennaowalreza/Desktop/openmined/duet/duet_env/lib/python3.8/site-packages (from diffprivlib) (1.19.5)\n",
      "Requirement already satisfied: setuptools>=39.0.1 in /Users/zarreennaowalreza/Desktop/openmined/duet/duet_env/lib/python3.8/site-packages (from diffprivlib) (52.0.0)\n",
      "Requirement already satisfied: scikit-learn>=0.22.0 in /Users/zarreennaowalreza/Desktop/openmined/duet/duet_env/lib/python3.8/site-packages (from diffprivlib) (0.24.1)\n",
      "Requirement already satisfied: scipy>=1.2.1 in /Users/zarreennaowalreza/Desktop/openmined/duet/duet_env/lib/python3.8/site-packages (from diffprivlib) (1.6.0)\n",
      "Requirement already satisfied: joblib>=0.11 in /Users/zarreennaowalreza/Desktop/openmined/duet/duet_env/lib/python3.8/site-packages (from diffprivlib) (1.0.1)\n",
      "Requirement already satisfied: threadpoolctl>=2.0.0 in /Users/zarreennaowalreza/Desktop/openmined/duet/duet_env/lib/python3.8/site-packages (from scikit-learn>=0.22.0->diffprivlib) (2.1.0)\n",
      "Building wheels for collected packages: diffprivlib\n",
      "  Building wheel for diffprivlib (setup.py) ... \u001b[?25ldone\n",
      "\u001b[?25h  Created wheel for diffprivlib: filename=diffprivlib-0.4.1-py3-none-any.whl size=153525 sha256=af49fd277e81a8353c204c8812d0630c3106b242982800a7718063235405160f\n",
      "  Stored in directory: /Users/zarreennaowalreza/Library/Caches/pip/wheels/bf/79/d6/dd735f95e666baf4bcee18751b49faff6c280bf80deb02026c\n",
      "Successfully built diffprivlib\n",
      "Installing collected packages: diffprivlib\n",
      "Successfully installed diffprivlib-0.4.1\n",
      "\u001b[33mWARNING: You are using pip version 21.0.1; however, version 21.1.3 is available.\n",
      "You should consider upgrading via the '/Users/zarreennaowalreza/Desktop/openmined/duet/duet_env/bin/python3 -m pip install --upgrade pip' command.\u001b[0m\n"
     ]
    }
   ],
   "source": [
    "!pip install diffprivlib"
   ]
  },
  {
   "cell_type": "code",
   "execution_count": 1,
   "id": "tribal-equation",
   "metadata": {},
   "outputs": [],
   "source": [
    "import numpy as np\n",
    "import pandas as pd\n",
    "import matplotlib.pyplot as plt\n",
    "from sklearn.metrics import accuracy_score"
   ]
  },
  {
   "cell_type": "code",
   "execution_count": 2,
   "id": "spectacular-arlington",
   "metadata": {},
   "outputs": [
    {
     "name": "stdout",
     "output_type": "stream",
     "text": [
      "(69, 51)\n"
     ]
    },
    {
     "data": {
      "text/html": [
       "<div>\n",
       "<style scoped>\n",
       "    .dataframe tbody tr th:only-of-type {\n",
       "        vertical-align: middle;\n",
       "    }\n",
       "\n",
       "    .dataframe tbody tr th {\n",
       "        vertical-align: top;\n",
       "    }\n",
       "\n",
       "    .dataframe thead th {\n",
       "        text-align: right;\n",
       "    }\n",
       "</style>\n",
       "<table border=\"1\" class=\"dataframe\">\n",
       "  <thead>\n",
       "    <tr style=\"text-align: right;\">\n",
       "      <th></th>\n",
       "      <th>FNC40</th>\n",
       "      <th>FNC33</th>\n",
       "      <th>FNC20</th>\n",
       "      <th>SBM_map67</th>\n",
       "      <th>SBM_map61</th>\n",
       "      <th>SBM_map36</th>\n",
       "      <th>SBM_map17</th>\n",
       "      <th>FNC48</th>\n",
       "      <th>FNC37</th>\n",
       "      <th>FNC353</th>\n",
       "      <th>...</th>\n",
       "      <th>FNC289</th>\n",
       "      <th>FNC285</th>\n",
       "      <th>FNC278</th>\n",
       "      <th>FNC275</th>\n",
       "      <th>FNC23</th>\n",
       "      <th>FNC213</th>\n",
       "      <th>FNC211</th>\n",
       "      <th>FNC210</th>\n",
       "      <th>FNC177</th>\n",
       "      <th>Class</th>\n",
       "    </tr>\n",
       "  </thead>\n",
       "  <tbody>\n",
       "    <tr>\n",
       "      <th>0</th>\n",
       "      <td>-0.042770</td>\n",
       "      <td>0.21967</td>\n",
       "      <td>0.023462</td>\n",
       "      <td>-0.553621</td>\n",
       "      <td>-0.048894</td>\n",
       "      <td>-0.666222</td>\n",
       "      <td>0.393087</td>\n",
       "      <td>-0.16328</td>\n",
       "      <td>-0.068833</td>\n",
       "      <td>-0.020897</td>\n",
       "      <td>...</td>\n",
       "      <td>0.003765</td>\n",
       "      <td>-0.25555</td>\n",
       "      <td>-0.22028</td>\n",
       "      <td>0.091184</td>\n",
       "      <td>-0.189860</td>\n",
       "      <td>0.094641</td>\n",
       "      <td>0.45274</td>\n",
       "      <td>0.350390</td>\n",
       "      <td>-0.012638</td>\n",
       "      <td>1</td>\n",
       "    </tr>\n",
       "    <tr>\n",
       "      <th>1</th>\n",
       "      <td>0.026720</td>\n",
       "      <td>0.82281</td>\n",
       "      <td>-0.146650</td>\n",
       "      <td>-0.300549</td>\n",
       "      <td>-0.030364</td>\n",
       "      <td>-0.336090</td>\n",
       "      <td>0.964257</td>\n",
       "      <td>0.71657</td>\n",
       "      <td>0.447540</td>\n",
       "      <td>-0.227980</td>\n",
       "      <td>...</td>\n",
       "      <td>0.469910</td>\n",
       "      <td>-0.36558</td>\n",
       "      <td>-0.49325</td>\n",
       "      <td>0.013791</td>\n",
       "      <td>0.561350</td>\n",
       "      <td>0.083160</td>\n",
       "      <td>0.48699</td>\n",
       "      <td>0.723200</td>\n",
       "      <td>-0.000896</td>\n",
       "      <td>0</td>\n",
       "    </tr>\n",
       "    <tr>\n",
       "      <th>2</th>\n",
       "      <td>-0.081407</td>\n",
       "      <td>0.44264</td>\n",
       "      <td>0.012487</td>\n",
       "      <td>-0.081175</td>\n",
       "      <td>1.332840</td>\n",
       "      <td>1.172378</td>\n",
       "      <td>-1.050905</td>\n",
       "      <td>0.60398</td>\n",
       "      <td>-0.169190</td>\n",
       "      <td>-0.252030</td>\n",
       "      <td>...</td>\n",
       "      <td>0.020654</td>\n",
       "      <td>-0.15788</td>\n",
       "      <td>0.39020</td>\n",
       "      <td>0.213510</td>\n",
       "      <td>-0.090663</td>\n",
       "      <td>0.326170</td>\n",
       "      <td>-0.18757</td>\n",
       "      <td>0.390630</td>\n",
       "      <td>-0.111880</td>\n",
       "      <td>1</td>\n",
       "    </tr>\n",
       "    <tr>\n",
       "      <th>3</th>\n",
       "      <td>-0.365520</td>\n",
       "      <td>0.21516</td>\n",
       "      <td>0.195540</td>\n",
       "      <td>0.220316</td>\n",
       "      <td>-0.982331</td>\n",
       "      <td>-1.062109</td>\n",
       "      <td>0.137624</td>\n",
       "      <td>0.22927</td>\n",
       "      <td>-0.086613</td>\n",
       "      <td>-0.230490</td>\n",
       "      <td>...</td>\n",
       "      <td>0.465930</td>\n",
       "      <td>-0.11343</td>\n",
       "      <td>-0.18818</td>\n",
       "      <td>-0.023861</td>\n",
       "      <td>0.338460</td>\n",
       "      <td>0.407870</td>\n",
       "      <td>0.28285</td>\n",
       "      <td>0.231020</td>\n",
       "      <td>0.126880</td>\n",
       "      <td>1</td>\n",
       "    </tr>\n",
       "    <tr>\n",
       "      <th>4</th>\n",
       "      <td>-0.054571</td>\n",
       "      <td>0.47644</td>\n",
       "      <td>0.506320</td>\n",
       "      <td>-0.370420</td>\n",
       "      <td>0.313340</td>\n",
       "      <td>0.212350</td>\n",
       "      <td>1.952477</td>\n",
       "      <td>-0.33573</td>\n",
       "      <td>0.198670</td>\n",
       "      <td>-0.266090</td>\n",
       "      <td>...</td>\n",
       "      <td>0.362940</td>\n",
       "      <td>-0.44335</td>\n",
       "      <td>0.13523</td>\n",
       "      <td>0.221310</td>\n",
       "      <td>-0.044503</td>\n",
       "      <td>0.021357</td>\n",
       "      <td>0.37870</td>\n",
       "      <td>0.004384</td>\n",
       "      <td>0.079035</td>\n",
       "      <td>1</td>\n",
       "    </tr>\n",
       "  </tbody>\n",
       "</table>\n",
       "<p>5 rows × 51 columns</p>\n",
       "</div>"
      ],
      "text/plain": [
       "      FNC40    FNC33     FNC20  SBM_map67  SBM_map61  SBM_map36  SBM_map17  \\\n",
       "0 -0.042770  0.21967  0.023462  -0.553621  -0.048894  -0.666222   0.393087   \n",
       "1  0.026720  0.82281 -0.146650  -0.300549  -0.030364  -0.336090   0.964257   \n",
       "2 -0.081407  0.44264  0.012487  -0.081175   1.332840   1.172378  -1.050905   \n",
       "3 -0.365520  0.21516  0.195540   0.220316  -0.982331  -1.062109   0.137624   \n",
       "4 -0.054571  0.47644  0.506320  -0.370420   0.313340   0.212350   1.952477   \n",
       "\n",
       "     FNC48     FNC37    FNC353  ...    FNC289   FNC285   FNC278    FNC275  \\\n",
       "0 -0.16328 -0.068833 -0.020897  ...  0.003765 -0.25555 -0.22028  0.091184   \n",
       "1  0.71657  0.447540 -0.227980  ...  0.469910 -0.36558 -0.49325  0.013791   \n",
       "2  0.60398 -0.169190 -0.252030  ...  0.020654 -0.15788  0.39020  0.213510   \n",
       "3  0.22927 -0.086613 -0.230490  ...  0.465930 -0.11343 -0.18818 -0.023861   \n",
       "4 -0.33573  0.198670 -0.266090  ...  0.362940 -0.44335  0.13523  0.221310   \n",
       "\n",
       "      FNC23    FNC213   FNC211    FNC210    FNC177  Class  \n",
       "0 -0.189860  0.094641  0.45274  0.350390 -0.012638      1  \n",
       "1  0.561350  0.083160  0.48699  0.723200 -0.000896      0  \n",
       "2 -0.090663  0.326170 -0.18757  0.390630 -0.111880      1  \n",
       "3  0.338460  0.407870  0.28285  0.231020  0.126880      1  \n",
       "4 -0.044503  0.021357  0.37870  0.004384  0.079035      1  \n",
       "\n",
       "[5 rows x 51 columns]"
      ]
     },
     "execution_count": 2,
     "metadata": {},
     "output_type": "execute_result"
    }
   ],
   "source": [
    "train_data = pd.read_csv('/Users/zarreennaowalreza/Desktop/openmined/PPMH/schrizofrenia_tab_data/final_train_50.csv')\n",
    "print(train_data.shape)\n",
    "train_data.head()"
   ]
  },
  {
   "cell_type": "code",
   "execution_count": 3,
   "id": "divided-notebook",
   "metadata": {},
   "outputs": [
    {
     "name": "stdout",
     "output_type": "stream",
     "text": [
      "(17, 51)\n"
     ]
    },
    {
     "data": {
      "text/html": [
       "<div>\n",
       "<style scoped>\n",
       "    .dataframe tbody tr th:only-of-type {\n",
       "        vertical-align: middle;\n",
       "    }\n",
       "\n",
       "    .dataframe tbody tr th {\n",
       "        vertical-align: top;\n",
       "    }\n",
       "\n",
       "    .dataframe thead th {\n",
       "        text-align: right;\n",
       "    }\n",
       "</style>\n",
       "<table border=\"1\" class=\"dataframe\">\n",
       "  <thead>\n",
       "    <tr style=\"text-align: right;\">\n",
       "      <th></th>\n",
       "      <th>FNC40</th>\n",
       "      <th>FNC33</th>\n",
       "      <th>FNC20</th>\n",
       "      <th>SBM_map67</th>\n",
       "      <th>SBM_map61</th>\n",
       "      <th>SBM_map36</th>\n",
       "      <th>SBM_map17</th>\n",
       "      <th>FNC48</th>\n",
       "      <th>FNC37</th>\n",
       "      <th>FNC353</th>\n",
       "      <th>...</th>\n",
       "      <th>FNC289</th>\n",
       "      <th>FNC285</th>\n",
       "      <th>FNC278</th>\n",
       "      <th>FNC275</th>\n",
       "      <th>FNC23</th>\n",
       "      <th>FNC213</th>\n",
       "      <th>FNC211</th>\n",
       "      <th>FNC210</th>\n",
       "      <th>FNC177</th>\n",
       "      <th>Class</th>\n",
       "    </tr>\n",
       "  </thead>\n",
       "  <tbody>\n",
       "    <tr>\n",
       "      <th>0</th>\n",
       "      <td>0.34404</td>\n",
       "      <td>0.64302</td>\n",
       "      <td>0.148900</td>\n",
       "      <td>-0.791032</td>\n",
       "      <td>0.829697</td>\n",
       "      <td>-0.026555</td>\n",
       "      <td>0.187573</td>\n",
       "      <td>0.515280</td>\n",
       "      <td>0.485810</td>\n",
       "      <td>0.273290</td>\n",
       "      <td>...</td>\n",
       "      <td>0.116160</td>\n",
       "      <td>0.11131</td>\n",
       "      <td>-0.14180</td>\n",
       "      <td>0.43596</td>\n",
       "      <td>0.40514</td>\n",
       "      <td>0.49545</td>\n",
       "      <td>0.62594</td>\n",
       "      <td>0.488840</td>\n",
       "      <td>0.15221</td>\n",
       "      <td>0</td>\n",
       "    </tr>\n",
       "    <tr>\n",
       "      <th>1</th>\n",
       "      <td>-0.12732</td>\n",
       "      <td>0.25707</td>\n",
       "      <td>0.373060</td>\n",
       "      <td>0.889753</td>\n",
       "      <td>-0.978412</td>\n",
       "      <td>-1.027496</td>\n",
       "      <td>1.961955</td>\n",
       "      <td>0.176950</td>\n",
       "      <td>-0.105510</td>\n",
       "      <td>-0.499290</td>\n",
       "      <td>...</td>\n",
       "      <td>0.110400</td>\n",
       "      <td>0.24471</td>\n",
       "      <td>0.16378</td>\n",
       "      <td>0.14387</td>\n",
       "      <td>-0.34615</td>\n",
       "      <td>0.43485</td>\n",
       "      <td>0.21171</td>\n",
       "      <td>-0.177450</td>\n",
       "      <td>0.19885</td>\n",
       "      <td>1</td>\n",
       "    </tr>\n",
       "    <tr>\n",
       "      <th>2</th>\n",
       "      <td>0.34123</td>\n",
       "      <td>0.66877</td>\n",
       "      <td>0.338740</td>\n",
       "      <td>0.785572</td>\n",
       "      <td>-0.896406</td>\n",
       "      <td>-0.213169</td>\n",
       "      <td>0.313224</td>\n",
       "      <td>0.253410</td>\n",
       "      <td>0.098053</td>\n",
       "      <td>-0.316810</td>\n",
       "      <td>...</td>\n",
       "      <td>-0.085182</td>\n",
       "      <td>-0.16643</td>\n",
       "      <td>0.26968</td>\n",
       "      <td>0.57360</td>\n",
       "      <td>-0.25904</td>\n",
       "      <td>0.61563</td>\n",
       "      <td>0.55868</td>\n",
       "      <td>0.447560</td>\n",
       "      <td>-0.36652</td>\n",
       "      <td>1</td>\n",
       "    </tr>\n",
       "    <tr>\n",
       "      <th>3</th>\n",
       "      <td>0.24601</td>\n",
       "      <td>0.59077</td>\n",
       "      <td>-0.067104</td>\n",
       "      <td>-1.522856</td>\n",
       "      <td>1.739382</td>\n",
       "      <td>1.574719</td>\n",
       "      <td>-1.308689</td>\n",
       "      <td>-0.033231</td>\n",
       "      <td>-0.304670</td>\n",
       "      <td>0.500520</td>\n",
       "      <td>...</td>\n",
       "      <td>0.078982</td>\n",
       "      <td>-0.51740</td>\n",
       "      <td>-0.57098</td>\n",
       "      <td>0.46945</td>\n",
       "      <td>0.19352</td>\n",
       "      <td>-0.22173</td>\n",
       "      <td>-0.10941</td>\n",
       "      <td>0.336160</td>\n",
       "      <td>-0.13141</td>\n",
       "      <td>0</td>\n",
       "    </tr>\n",
       "    <tr>\n",
       "      <th>4</th>\n",
       "      <td>-0.17317</td>\n",
       "      <td>0.51587</td>\n",
       "      <td>0.277670</td>\n",
       "      <td>-0.256770</td>\n",
       "      <td>0.263038</td>\n",
       "      <td>0.833339</td>\n",
       "      <td>-0.051214</td>\n",
       "      <td>0.679640</td>\n",
       "      <td>0.499420</td>\n",
       "      <td>0.083208</td>\n",
       "      <td>...</td>\n",
       "      <td>0.194680</td>\n",
       "      <td>0.21828</td>\n",
       "      <td>0.27271</td>\n",
       "      <td>0.37475</td>\n",
       "      <td>0.69264</td>\n",
       "      <td>0.36131</td>\n",
       "      <td>0.14574</td>\n",
       "      <td>0.027857</td>\n",
       "      <td>-0.11404</td>\n",
       "      <td>0</td>\n",
       "    </tr>\n",
       "  </tbody>\n",
       "</table>\n",
       "<p>5 rows × 51 columns</p>\n",
       "</div>"
      ],
      "text/plain": [
       "     FNC40    FNC33     FNC20  SBM_map67  SBM_map61  SBM_map36  SBM_map17  \\\n",
       "0  0.34404  0.64302  0.148900  -0.791032   0.829697  -0.026555   0.187573   \n",
       "1 -0.12732  0.25707  0.373060   0.889753  -0.978412  -1.027496   1.961955   \n",
       "2  0.34123  0.66877  0.338740   0.785572  -0.896406  -0.213169   0.313224   \n",
       "3  0.24601  0.59077 -0.067104  -1.522856   1.739382   1.574719  -1.308689   \n",
       "4 -0.17317  0.51587  0.277670  -0.256770   0.263038   0.833339  -0.051214   \n",
       "\n",
       "      FNC48     FNC37    FNC353  ...    FNC289   FNC285   FNC278   FNC275  \\\n",
       "0  0.515280  0.485810  0.273290  ...  0.116160  0.11131 -0.14180  0.43596   \n",
       "1  0.176950 -0.105510 -0.499290  ...  0.110400  0.24471  0.16378  0.14387   \n",
       "2  0.253410  0.098053 -0.316810  ... -0.085182 -0.16643  0.26968  0.57360   \n",
       "3 -0.033231 -0.304670  0.500520  ...  0.078982 -0.51740 -0.57098  0.46945   \n",
       "4  0.679640  0.499420  0.083208  ...  0.194680  0.21828  0.27271  0.37475   \n",
       "\n",
       "     FNC23   FNC213   FNC211    FNC210   FNC177  Class  \n",
       "0  0.40514  0.49545  0.62594  0.488840  0.15221      0  \n",
       "1 -0.34615  0.43485  0.21171 -0.177450  0.19885      1  \n",
       "2 -0.25904  0.61563  0.55868  0.447560 -0.36652      1  \n",
       "3  0.19352 -0.22173 -0.10941  0.336160 -0.13141      0  \n",
       "4  0.69264  0.36131  0.14574  0.027857 -0.11404      0  \n",
       "\n",
       "[5 rows x 51 columns]"
      ]
     },
     "execution_count": 3,
     "metadata": {},
     "output_type": "execute_result"
    }
   ],
   "source": [
    "test_data = pd.read_csv('/Users/zarreennaowalreza/Desktop/openmined/PPMH/schrizofrenia_tab_data/final_test_50.csv')\n",
    "print(test_data.shape)\n",
    "test_data.head()"
   ]
  },
  {
   "cell_type": "code",
   "execution_count": 4,
   "id": "literary-settlement",
   "metadata": {},
   "outputs": [],
   "source": [
    "import diffprivlib.models as dp\n",
    "from sklearn.linear_model import LogisticRegression"
   ]
  },
  {
   "cell_type": "code",
   "execution_count": 5,
   "id": "stock-mount",
   "metadata": {},
   "outputs": [],
   "source": [
    "X_train = train_data.loc[:, train_data.columns != 'Class']\n",
    "y_train = train_data['Class']\n",
    "\n",
    "X_test = test_data.loc[:, test_data.columns != 'Class']\n",
    "y_test = test_data['Class']"
   ]
  },
  {
   "cell_type": "code",
   "execution_count": 6,
   "id": "sacred-petroleum",
   "metadata": {},
   "outputs": [
    {
     "data": {
      "text/plain": [
       "LogisticRegression(accountant=BudgetAccountant(spent_budget=[(1.0, 0)]),\n",
       "                   data_norm=5.6778)"
      ]
     },
     "execution_count": 6,
     "metadata": {},
     "output_type": "execute_result"
    }
   ],
   "source": [
    "dp_clf = dp.LogisticRegression(data_norm=5.6778)\n",
    "\n",
    "dp_clf.fit(X_train, y_train)"
   ]
  },
  {
   "cell_type": "code",
   "execution_count": 7,
   "id": "initial-baking",
   "metadata": {},
   "outputs": [
    {
     "name": "stdout",
     "output_type": "stream",
     "text": [
      "Differentially private test accuracy (epsilon=1.00): 58.82%\n"
     ]
    }
   ],
   "source": [
    "print(\"Differentially private test accuracy (epsilon=%.2f): %.2f%%\" % \n",
    "     (dp_clf.epsilon, dp_clf.score(X_test, y_test) * 100))"
   ]
  },
  {
   "cell_type": "markdown",
   "id": "through-polyester",
   "metadata": {},
   "source": [
    "By setting epsilon = float(\"inf\"), we can produce the same result as the non-private logistic regression classifer."
   ]
  },
  {
   "cell_type": "code",
   "execution_count": 8,
   "id": "parallel-classics",
   "metadata": {},
   "outputs": [
    {
     "data": {
      "text/plain": [
       "LogisticRegression(accountant=BudgetAccountant(spent_budget=[(1.0, 0), (inf, 0)]),\n",
       "                   data_norm=5.6778, epsilon=inf)"
      ]
     },
     "execution_count": 8,
     "metadata": {},
     "output_type": "execute_result"
    }
   ],
   "source": [
    "dp_clf_inf = dp.LogisticRegression(epsilon=float(\"inf\"), data_norm=5.6778)\n",
    "dp_clf_inf.fit(X_train, y_train)"
   ]
  },
  {
   "cell_type": "code",
   "execution_count": 11,
   "id": "outer-porcelain",
   "metadata": {},
   "outputs": [
    {
     "name": "stdout",
     "output_type": "stream",
     "text": [
      "Non-private test accuracy (epsilon=inf): 88.24%\n"
     ]
    }
   ],
   "source": [
    "print(\"Non-private test accuracy (epsilon=%.2f): %.2f%%\" % \n",
    "     (dp_clf_inf.epsilon, dp_clf_inf.score(X_test, y_test) * 100))"
   ]
  },
  {
   "cell_type": "code",
   "execution_count": 12,
   "id": "apart-assurance",
   "metadata": {},
   "outputs": [
    {
     "data": {
      "text/plain": [
       "LogisticRegression()"
      ]
     },
     "execution_count": 12,
     "metadata": {},
     "output_type": "execute_result"
    }
   ],
   "source": [
    "clf = LogisticRegression(solver=\"lbfgs\")\n",
    "clf.fit(X_train, y_train)"
   ]
  },
  {
   "cell_type": "code",
   "execution_count": 13,
   "id": "impressed-subcommittee",
   "metadata": {},
   "outputs": [
    {
     "name": "stdout",
     "output_type": "stream",
     "text": [
      "Non-private test accuracy: 88.24%\n"
     ]
    }
   ],
   "source": [
    "baseline = clf.score(X_test, y_test)\n",
    "print(\"Non-private test accuracy: %.2f%%\" % (baseline * 100))"
   ]
  },
  {
   "cell_type": "code",
   "execution_count": 14,
   "id": "induced-style",
   "metadata": {},
   "outputs": [
    {
     "name": "stdout",
     "output_type": "stream",
     "text": [
      "Agreement between non-private and differentially private (epsilon=inf) classifiers: 58.82%\n"
     ]
    }
   ],
   "source": [
    "print(\"Agreement between non-private and differentially private (epsilon=inf) classifiers: %.2f%%\" % \n",
    "     (dp_clf.score(X_test, clf.predict(X_test)) * 100))"
   ]
  },
  {
   "cell_type": "code",
   "execution_count": 15,
   "id": "sublime-flesh",
   "metadata": {},
   "outputs": [
    {
     "name": "stdout",
     "output_type": "stream",
     "text": [
      "Overall test accuracy 58.82352941176471\n"
     ]
    }
   ],
   "source": [
    "y_pred = dp_clf.predict(X_test)\n",
    "\n",
    "acc = accuracy_score(y_test, y_pred)\n",
    "print(\"Overall test accuracy\", acc*100)"
   ]
  },
  {
   "cell_type": "code",
   "execution_count": 16,
   "id": "american-commons",
   "metadata": {},
   "outputs": [
    {
     "name": "stdout",
     "output_type": "stream",
     "text": [
      "Prediction: 0 Ground Truth: 0\n",
      "Prediction: 0 Ground Truth: 1\n",
      "Prediction: 1 Ground Truth: 1\n",
      "Prediction: 1 Ground Truth: 0\n",
      "Prediction: 0 Ground Truth: 0\n",
      "Prediction: 0 Ground Truth: 0\n",
      "Prediction: 0 Ground Truth: 0\n",
      "Prediction: 1 Ground Truth: 1\n",
      "Prediction: 0 Ground Truth: 1\n",
      "Prediction: 1 Ground Truth: 0\n",
      "Prediction: 0 Ground Truth: 1\n",
      "Prediction: 0 Ground Truth: 1\n",
      "Prediction: 0 Ground Truth: 1\n",
      "Prediction: 0 Ground Truth: 0\n",
      "Prediction: 0 Ground Truth: 0\n",
      "Prediction: 0 Ground Truth: 0\n",
      "Prediction: 0 Ground Truth: 0\n"
     ]
    }
   ],
   "source": [
    "for i in range(len(y_test)):\n",
    "    print(f\"Prediction: {y_pred[i]} Ground Truth: {y_test[i]}\")"
   ]
  },
  {
   "cell_type": "code",
   "execution_count": 20,
   "id": "celtic-glossary",
   "metadata": {},
   "outputs": [],
   "source": [
    "epsilons = np.logspace(-2, 2, 50)\n",
    "accuracy = list()\n",
    "acc_ep = {}\n",
    "\n",
    "for epsilon in epsilons:\n",
    "    dp_clf = dp.LogisticRegression(epsilon=epsilon, data_norm=5.6778)\n",
    "    dp_clf.fit(X_train, y_train)\n",
    "    score = dp_clf.score(X_test, y_test)\n",
    "    accuracy.append(score)\n",
    "    acc_ep[epsilon] = score"
   ]
  },
  {
   "cell_type": "code",
   "execution_count": 21,
   "id": "manufactured-jacket",
   "metadata": {},
   "outputs": [
    {
     "data": {
      "image/png": "[encoded data removed]",
      "text/plain": [
       "<Figure size 432x288 with 1 Axes>"
      ]
     },
     "metadata": {
      "needs_background": "light"
     },
     "output_type": "display_data"
    }
   ],
   "source": [
    "plt.semilogx(epsilons, accuracy)\n",
    "plt.title(\"Differentially private Logistic Regression accuracy\")\n",
    "plt.xlabel(\"epsilon\")\n",
    "plt.ylabel(\"Accuracy\")\n",
    "plt.show()"
   ]
  },
  {
   "cell_type": "code",
   "execution_count": 22,
   "id": "inappropriate-block",
   "metadata": {
    "scrolled": true
   },
   "outputs": [
    {
     "data": {
      "text/plain": [
       "{0.01: 0.5294117647058824,\n",
       " 0.012067926406393288: 0.8823529411764706,\n",
       " 0.014563484775012436: 0.23529411764705882,\n",
       " 0.017575106248547922: 0.5294117647058824,\n",
       " 0.021209508879201904: 0.23529411764705882,\n",
       " 0.025595479226995357: 0.4117647058823529,\n",
       " 0.030888435964774818: 0.35294117647058826,\n",
       " 0.0372759372031494: 0.5882352941176471,\n",
       " 0.04498432668969444: 0.4117647058823529,\n",
       " 0.054286754393238594: 0.5294117647058824,\n",
       " 0.0655128556859551: 0.23529411764705882,\n",
       " 0.07906043210907697: 0.35294117647058826,\n",
       " 0.09540954763499938: 0.6470588235294118,\n",
       " 0.1151395399326447: 0.7647058823529411,\n",
       " 0.13894954943731375: 0.5294117647058824,\n",
       " 0.16768329368110074: 0.29411764705882354,\n",
       " 0.20235896477251566: 0.7058823529411765,\n",
       " 0.2442053094548651: 0.5882352941176471,\n",
       " 0.29470517025518095: 0.5294117647058824,\n",
       " 0.35564803062231287: 0.6470588235294118,\n",
       " 0.42919342601287763: 0.35294117647058826,\n",
       " 0.517947467923121: 0.35294117647058826,\n",
       " 0.6250551925273969: 0.47058823529411764,\n",
       " 0.7543120063354615: 0.6470588235294118,\n",
       " 0.9102981779915218: 0.7058823529411765,\n",
       " 1.0985411419875584: 0.8235294117647058,\n",
       " 1.325711365590108: 0.47058823529411764,\n",
       " 1.5998587196060574: 0.47058823529411764,\n",
       " 1.9306977288832496: 0.29411764705882354,\n",
       " 2.329951810515372: 0.47058823529411764,\n",
       " 2.811768697974228: 0.5882352941176471,\n",
       " 3.3932217718953264: 0.5882352941176471,\n",
       " 4.094915062380423: 0.5882352941176471,\n",
       " 4.941713361323833: 0.4117647058823529,\n",
       " 5.963623316594643: 0.11764705882352941,\n",
       " 7.196856730011514: 0.35294117647058826,\n",
       " 8.68511373751352: 0.8235294117647058,\n",
       " 10.481131341546853: 0.47058823529411764,\n",
       " 12.648552168552959: 0.5882352941176471,\n",
       " 15.264179671752318: 0.6470588235294118,\n",
       " 18.420699693267146: 0.6470588235294118,\n",
       " 22.229964825261934: 0.23529411764705882,\n",
       " 26.826957952797247: 0.6470588235294118,\n",
       " 32.374575428176435: 0.7058823529411765,\n",
       " 39.06939937054613: 0.7647058823529411,\n",
       " 47.1486636345739: 0.7647058823529411,\n",
       " 56.89866029018293: 0.8235294117647058,\n",
       " 68.66488450042998: 0.8823529411764706,\n",
       " 82.86427728546842: 0.7647058823529411,\n",
       " 100.0: 0.8235294117647058}"
      ]
     },
     "execution_count": 22,
     "metadata": {},
     "output_type": "execute_result"
    }
   ],
   "source": [
    "acc_ep"
   ]
  },
  {
   "cell_type": "code",
   "execution_count": 38,
   "id": "forward-pitch",
   "metadata": {},
   "outputs": [
    {
     "name": "stdout",
     "output_type": "stream",
     "text": [
      "Differentially private test accuracy (epsilon=0.01): 88.24%\n"
     ]
    }
   ],
   "source": [
    "epsilon = 0.012067926406393288\n",
    "\n",
    "dp_clf = dp.LogisticRegression(epsilon=epsilon, data_norm=5.6778)\n",
    "dp_clf.fit(X_train, y_train)\n",
    "\n",
    "print(\"Differentially private test accuracy (epsilon=%.2f): %.2f%%\" % \n",
    "     (dp_clf.epsilon, dp_clf.score(X_test, y_test) * 100))\n"
   ]
  },
  {
   "cell_type": "code",
   "execution_count": 49,
   "id": "committed-apartment",
   "metadata": {},
   "outputs": [
    {
     "name": "stdout",
     "output_type": "stream",
     "text": [
      "Differentially private test accuracy (epsilon=1.00): 94.12%\n"
     ]
    }
   ],
   "source": [
    "epsilon = 1.0\n",
    "\n",
    "dp_clf = dp.LogisticRegression(epsilon=epsilon, data_norm=5.6778)\n",
    "dp_clf.fit(X_train, y_train)\n",
    "\n",
    "print(\"Differentially private test accuracy (epsilon=%.2f): %.2f%%\" % \n",
    "     (dp_clf.epsilon, dp_clf.score(X_test, y_test) * 100))"
   ]
  },
  {
   "cell_type": "code",
   "execution_count": 50,
   "id": "deadly-definition",
   "metadata": {},
   "outputs": [
    {
     "name": "stdout",
     "output_type": "stream",
     "text": [
      "Name: torch\r\n",
      "Version: 1.7.1\r\n",
      "Summary: Tensors and Dynamic neural networks in Python with strong GPU acceleration\r\n",
      "Home-page: https://pytorch.org/\r\n",
      "Author: PyTorch Team\r\n",
      "Author-email: packages@pytorch.org\r\n",
      "License: BSD-3\r\n",
      "Location: /Users/zarreennaowalreza/Desktop/openmined/duet/duet_env/lib/python3.8/site-packages\r\n",
      "Requires: numpy, typing-extensions\r\n",
      "Required-by: torchvision, syft\r\n"
     ]
    }
   ],
   "source": [
    "!pip show torch"
   ]
  },
  {
   "cell_type": "code",
   "execution_count": 51,
   "id": "caroline-matthew",
   "metadata": {
    "scrolled": true
   },
   "outputs": [
    {
     "name": "stdout",
     "output_type": "stream",
     "text": [
      "Collecting opendp-smartnoise\n",
      "  Downloading opendp_smartnoise-0.1.4.2-py3-none-any.whl (193 kB)\n",
      "\u001b[K     |████████████████████████████████| 193 kB 2.6 MB/s eta 0:00:01\n",
      "\u001b[?25hCollecting pandasql\n",
      "  Downloading pandasql-0.7.3.tar.gz (26 kB)\n",
      "Collecting statsmodels\n",
      "  Downloading statsmodels-0.12.2-cp38-cp38-macosx_10_15_x86_64.whl (9.5 MB)\n",
      "\u001b[K     |████████████████████████████████| 9.5 MB 1.7 MB/s eta 0:00:01\n",
      "\u001b[?25hRequirement already satisfied: numpy in /Users/zarreennaowalreza/Desktop/openmined/duet/duet_env/lib/python3.8/site-packages (from opendp-smartnoise) (1.19.5)\n",
      "Requirement already satisfied: pandas in /Users/zarreennaowalreza/Desktop/openmined/duet/duet_env/lib/python3.8/site-packages (from opendp-smartnoise) (1.2.0)\n",
      "Collecting opendp-smartnoise-core\n",
      "  Downloading opendp_smartnoise_core-0.2.2-py3-none-any.whl (12.7 MB)\n",
      "\u001b[K     |████████████████████████████████| 12.7 MB 9.6 MB/s eta 0:00:01    |█▋                              | 645 kB 9.6 MB/s eta 0:00:02\n",
      "\u001b[?25hCollecting antlr4-python3-runtime==4.8\n",
      "  Downloading antlr4-python3-runtime-4.8.tar.gz (112 kB)\n",
      "\u001b[K     |████████████████████████████████| 112 kB 17.8 MB/s eta 0:00:01\n",
      "\u001b[?25hRequirement already satisfied: scipy in /Users/zarreennaowalreza/Desktop/openmined/duet/duet_env/lib/python3.8/site-packages (from opendp-smartnoise) (1.6.0)\n",
      "Collecting msrest\n",
      "  Downloading msrest-0.6.21-py2.py3-none-any.whl (85 kB)\n",
      "\u001b[K     |████████████████████████████████| 85 kB 13.2 MB/s eta 0:00:01\n",
      "\u001b[?25hRequirement already satisfied: pyyaml in /Users/zarreennaowalreza/Desktop/openmined/duet/duet_env/lib/python3.8/site-packages (from opendp-smartnoise) (5.4.1)\n",
      "Collecting isodate>=0.6.0\n",
      "  Downloading isodate-0.6.0-py2.py3-none-any.whl (45 kB)\n",
      "\u001b[K     |████████████████████████████████| 45 kB 6.8 MB/s  eta 0:00:01\n",
      "\u001b[?25hRequirement already satisfied: certifi>=2017.4.17 in /Users/zarreennaowalreza/Desktop/openmined/duet/duet_env/lib/python3.8/site-packages (from msrest->opendp-smartnoise) (2020.12.5)\n",
      "Collecting requests-oauthlib>=0.5.0\n",
      "  Downloading requests_oauthlib-1.3.0-py2.py3-none-any.whl (23 kB)\n",
      "Requirement already satisfied: requests~=2.16 in /Users/zarreennaowalreza/Desktop/openmined/duet/duet_env/lib/python3.8/site-packages (from msrest->opendp-smartnoise) (2.25.1)\n",
      "Requirement already satisfied: six in /Users/zarreennaowalreza/Desktop/openmined/duet/duet_env/lib/python3.8/site-packages (from isodate>=0.6.0->msrest->opendp-smartnoise) (1.15.0)\n",
      "Requirement already satisfied: chardet<5,>=3.0.2 in /Users/zarreennaowalreza/Desktop/openmined/duet/duet_env/lib/python3.8/site-packages (from requests~=2.16->msrest->opendp-smartnoise) (4.0.0)\n",
      "Requirement already satisfied: urllib3<1.27,>=1.21.1 in /Users/zarreennaowalreza/Desktop/openmined/duet/duet_env/lib/python3.8/site-packages (from requests~=2.16->msrest->opendp-smartnoise) (1.26.2)\n",
      "Requirement already satisfied: idna<3,>=2.5 in /Users/zarreennaowalreza/Desktop/openmined/duet/duet_env/lib/python3.8/site-packages (from requests~=2.16->msrest->opendp-smartnoise) (2.10)\n",
      "Collecting oauthlib>=3.0.0\n",
      "  Downloading oauthlib-3.1.1-py2.py3-none-any.whl (146 kB)\n",
      "\u001b[K     |████████████████████████████████| 146 kB 21.2 MB/s eta 0:00:01\n",
      "\u001b[?25hRequirement already satisfied: protobuf in /Users/zarreennaowalreza/Desktop/openmined/duet/duet_env/lib/python3.8/site-packages (from opendp-smartnoise-core->opendp-smartnoise) (3.14.0)\n",
      "Requirement already satisfied: pytz>=2017.3 in /Users/zarreennaowalreza/Desktop/openmined/duet/duet_env/lib/python3.8/site-packages (from pandas->opendp-smartnoise) (2020.5)\n",
      "Requirement already satisfied: python-dateutil>=2.7.3 in /Users/zarreennaowalreza/Desktop/openmined/duet/duet_env/lib/python3.8/site-packages (from pandas->opendp-smartnoise) (2.8.1)\n",
      "Collecting sqlalchemy\n",
      "  Downloading SQLAlchemy-1.4.22-cp38-cp38-macosx_10_14_x86_64.whl (1.5 MB)\n",
      "\u001b[K     |████████████████████████████████| 1.5 MB 23.5 MB/s eta 0:00:01\n",
      "\u001b[?25hCollecting greenlet!=0.4.17\n",
      "  Downloading greenlet-1.1.0-cp38-cp38-macosx_10_14_x86_64.whl (87 kB)\n",
      "\u001b[K     |████████████████████████████████| 87 kB 9.9 MB/s  eta 0:00:01\n",
      "\u001b[?25hCollecting patsy>=0.5\n",
      "  Using cached patsy-0.5.1-py2.py3-none-any.whl (231 kB)\n",
      "Building wheels for collected packages: antlr4-python3-runtime, pandasql\n",
      "  Building wheel for antlr4-python3-runtime (setup.py) ... \u001b[?25ldone\n",
      "\u001b[?25h  Created wheel for antlr4-python3-runtime: filename=antlr4_python3_runtime-4.8-py3-none-any.whl size=141230 sha256=70e8ae2699bc6d61b4bb52588a9bb60afbf540cce0e8a3bdd8649be1be26ee3b\n",
      "  Stored in directory: /Users/zarreennaowalreza/Library/Caches/pip/wheels/c8/d0/ab/d43c02eaddc5b9004db86950802442ad9a26f279c619e28da0\n",
      "  Building wheel for pandasql (setup.py) ... \u001b[?25ldone\n",
      "\u001b[?25h  Created wheel for pandasql: filename=pandasql-0.7.3-py3-none-any.whl size=26818 sha256=6b536a4e40b2d1483b72ec6635ca107564d98daba9f236e578b1b07da4a5b735\n",
      "  Stored in directory: /Users/zarreennaowalreza/Library/Caches/pip/wheels/ed/8f/46/a383923333728744f01ba24adbd8e364f2cb9470a8b8e5b9ff\n",
      "Successfully built antlr4-python3-runtime pandasql\n",
      "Installing collected packages: oauthlib, greenlet, sqlalchemy, requests-oauthlib, patsy, isodate, statsmodels, pandasql, opendp-smartnoise-core, msrest, antlr4-python3-runtime, opendp-smartnoise\n",
      "Successfully installed antlr4-python3-runtime-4.8 greenlet-1.1.0 isodate-0.6.0 msrest-0.6.21 oauthlib-3.1.1 opendp-smartnoise-0.1.4.2 opendp-smartnoise-core-0.2.2 pandasql-0.7.3 patsy-0.5.1 requests-oauthlib-1.3.0 sqlalchemy-1.4.22 statsmodels-0.12.2\n",
      "\u001b[33mWARNING: You are using pip version 21.0.1; however, version 21.1.3 is available.\n",
      "You should consider upgrading via the '/Users/zarreennaowalreza/Desktop/openmined/duet/duet_env/bin/python3 -m pip install --upgrade pip' command.\u001b[0m\n"
     ]
    }
   ],
   "source": [
    "!pip install opendp-smartnoise"
   ]
  },
  {
   "cell_type": "code",
   "execution_count": null,
   "id": "satisfactory-trout",
   "metadata": {},
   "outputs": [],
   "source": []
  }
 ],
 "metadata": {
  "kernelspec": {
   "display_name": "Python 3",
   "language": "python",
   "name": "python3"
  },
  "language_info": {
   "codemirror_mode": {
    "name": "ipython",
    "version": 3
   },
   "file_extension": ".py",
   "mimetype": "text/x-python",
   "name": "python",
   "nbconvert_exporter": "python",
   "pygments_lexer": "ipython3",
   "version": "3.8.6"
  }
 },
 "nbformat": 4,
 "nbformat_minor": 5
}
