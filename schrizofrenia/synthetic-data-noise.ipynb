{
 "cells": [
  {
   "cell_type": "markdown",
   "id": "shaped-ability",
   "metadata": {},
   "source": [
    "jtejr rjgn kngka jaejn iksjgeop LKANSGK "
   ]
  },
  {
   "cell_type": "markdown",
   "id": "limiting-holmes",
   "metadata": {},
   "source": [
    "Go away"
   ]
  },
  {
   "cell_type": "code",
   "execution_count": null,
   "id": "balanced-blackberry",
   "metadata": {},
   "outputs": [],
   "source": []
  }
 ],
 "metadata": {
  "kernelspec": {
   "display_name": "Python 3",
   "language": "python",
   "name": "python3"
  },
  "language_info": {
   "codemirror_mode": {
    "name": "ipython",
    "version": 3
   },
   "file_extension": ".py",
   "mimetype": "text/x-python",
   "name": "python",
   "nbconvert_exporter": "python",
   "pygments_lexer": "ipython3",
   "version": "3.8.6"
  }
 },
 "nbformat": 4,
 "nbformat_minor": 5
}
